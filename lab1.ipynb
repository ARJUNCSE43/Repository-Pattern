{
  "cells": [
    {
      "cell_type": "markdown",
      "metadata": {
        "id": "view-in-github",
        "colab_type": "text"
      },
      "source": [
        "<a href=\"https://colab.research.google.com/github/ARJUNCSE43/Repository-Pattern/blob/main/lab1.ipynb\" target=\"_parent\"><img src=\"https://colab.research.google.com/assets/colab-badge.svg\" alt=\"Open In Colab\"/></a>"
      ]
    },
    {
      "cell_type": "markdown",
      "metadata": {
        "id": "B-Xl6Ru1HYsu"
      },
      "source": [
        "# CSE 4622 Lab 01: Multi-Class Classification with PyTorch\n",
        "\n",
        "In this tutorial, we'll go through an example of a multi-class\n",
        "linear classification problem using PyTorch.\n",
        "\n",
        "Training models in PyTorch requires much less of the kind of code that you\n",
        "are required to write for project 1.\n",
        "However, PyTorch hides a lot of details of the computation,\n",
        "both of the computation of the prediction, and the computation of the gradients. In your later\n",
        "projects, you'll work with both numpy to understand deeply how your models actually work, but\n",
        "also learn PyTorch to gain practical skills in building machine learning models.\n",
        "\n",
        "In the process, we will:\n",
        "\n",
        "- Introduce the MNIST dataset, which contains 28x28 pixel images of hand-written digits\n",
        "- Introduce how to use of PyTorch to build and train models\n",
        "- (If we have time) explore the effect of certain settings on our model:\n",
        "    - Data set size\n",
        "    - Batch size\n",
        "    - Regularization"
      ]
    },
    {
      "cell_type": "code",
      "execution_count": 1,
      "metadata": {
        "id": "V1NOv0ViHYsy"
      },
      "outputs": [],
      "source": [
        "%matplotlib inline"
      ]
    },
    {
      "cell_type": "markdown",
      "metadata": {
        "id": "fNbxLtA4HYsz"
      },
      "source": [
        "## Data\n",
        "\n",
        "The MNIST dataset contains black and white, hand-written (numerical) digits\n",
        "that are 28x28 pixels large. This is a data set that is typically used for\n",
        "demonstrations of machine learning models, and as a first data set to test\n",
        "new types of models.\n",
        "\n",
        "We will download the dataset. For simplicity, we'll only use the first 2500\n",
        "images in the MNIST dataset. The first time you run this code, we will download\n",
        "the MNIST dataset."
      ]
    },
    {
      "cell_type": "code",
      "execution_count": null,
      "metadata": {
        "colab": {
          "background_save": true,
          "base_uri": "https://localhost:8080/"
        },
        "id": "H2DA5JYs3hQ3",
        "outputId": "f31a4cd7-1f67-48f8-c547-5f6c365f7720"
      },
      "outputs": [
        {
          "name": "stdout",
          "output_type": "stream",
          "text": [
            "Requirement already satisfied: torch in /usr/local/lib/python3.11/dist-packages (2.6.0+cu124)\n",
            "Requirement already satisfied: filelock in /usr/local/lib/python3.11/dist-packages (from torch) (3.18.0)\n",
            "Requirement already satisfied: typing-extensions>=4.10.0 in /usr/local/lib/python3.11/dist-packages (from torch) (4.13.1)\n",
            "Requirement already satisfied: networkx in /usr/local/lib/python3.11/dist-packages (from torch) (3.4.2)\n",
            "Requirement already satisfied: jinja2 in /usr/local/lib/python3.11/dist-packages (from torch) (3.1.6)\n",
            "Requirement already satisfied: fsspec in /usr/local/lib/python3.11/dist-packages (from torch) (2025.3.2)\n",
            "Collecting nvidia-cuda-nvrtc-cu12==12.4.127 (from torch)\n",
            "  Downloading nvidia_cuda_nvrtc_cu12-12.4.127-py3-none-manylinux2014_x86_64.whl.metadata (1.5 kB)\n",
            "Collecting nvidia-cuda-runtime-cu12==12.4.127 (from torch)\n",
            "  Downloading nvidia_cuda_runtime_cu12-12.4.127-py3-none-manylinux2014_x86_64.whl.metadata (1.5 kB)\n",
            "Collecting nvidia-cuda-cupti-cu12==12.4.127 (from torch)\n",
            "  Downloading nvidia_cuda_cupti_cu12-12.4.127-py3-none-manylinux2014_x86_64.whl.metadata (1.6 kB)\n",
            "Collecting nvidia-cudnn-cu12==9.1.0.70 (from torch)\n",
            "  Downloading nvidia_cudnn_cu12-9.1.0.70-py3-none-manylinux2014_x86_64.whl.metadata (1.6 kB)\n",
            "Collecting nvidia-cublas-cu12==12.4.5.8 (from torch)\n",
            "  Downloading nvidia_cublas_cu12-12.4.5.8-py3-none-manylinux2014_x86_64.whl.metadata (1.5 kB)\n",
            "Collecting nvidia-cufft-cu12==11.2.1.3 (from torch)\n",
            "  Downloading nvidia_cufft_cu12-11.2.1.3-py3-none-manylinux2014_x86_64.whl.metadata (1.5 kB)\n",
            "Collecting nvidia-curand-cu12==10.3.5.147 (from torch)\n",
            "  Downloading nvidia_curand_cu12-10.3.5.147-py3-none-manylinux2014_x86_64.whl.metadata (1.5 kB)\n",
            "Collecting nvidia-cusolver-cu12==11.6.1.9 (from torch)\n",
            "  Downloading nvidia_cusolver_cu12-11.6.1.9-py3-none-manylinux2014_x86_64.whl.metadata (1.6 kB)\n",
            "Collecting nvidia-cusparse-cu12==12.3.1.170 (from torch)\n",
            "  Downloading nvidia_cusparse_cu12-12.3.1.170-py3-none-manylinux2014_x86_64.whl.metadata (1.6 kB)\n",
            "Requirement already satisfied: nvidia-cusparselt-cu12==0.6.2 in /usr/local/lib/python3.11/dist-packages (from torch) (0.6.2)\n",
            "Requirement already satisfied: nvidia-nccl-cu12==2.21.5 in /usr/local/lib/python3.11/dist-packages (from torch) (2.21.5)\n",
            "Requirement already satisfied: nvidia-nvtx-cu12==12.4.127 in /usr/local/lib/python3.11/dist-packages (from torch) (12.4.127)\n",
            "Collecting nvidia-nvjitlink-cu12==12.4.127 (from torch)\n",
            "  Downloading nvidia_nvjitlink_cu12-12.4.127-py3-none-manylinux2014_x86_64.whl.metadata (1.5 kB)\n",
            "Requirement already satisfied: triton==3.2.0 in /usr/local/lib/python3.11/dist-packages (from torch) (3.2.0)\n",
            "Requirement already satisfied: sympy==1.13.1 in /usr/local/lib/python3.11/dist-packages (from torch) (1.13.1)\n",
            "Requirement already satisfied: mpmath<1.4,>=1.1.0 in /usr/local/lib/python3.11/dist-packages (from sympy==1.13.1->torch) (1.3.0)\n",
            "Requirement already satisfied: MarkupSafe>=2.0 in /usr/local/lib/python3.11/dist-packages (from jinja2->torch) (3.0.2)\n",
            "Downloading nvidia_cublas_cu12-12.4.5.8-py3-none-manylinux2014_x86_64.whl (363.4 MB)\n",
            "\u001b[2K   \u001b[90m━━━━━━━━━━━━━━━━━━━━━━━━━━━━━━━━━━━━━━━━\u001b[0m \u001b[32m363.4/363.4 MB\u001b[0m \u001b[31m3.0 MB/s\u001b[0m eta \u001b[36m0:00:00\u001b[0m\n",
            "\u001b[?25hDownloading nvidia_cuda_cupti_cu12-12.4.127-py3-none-manylinux2014_x86_64.whl (13.8 MB)\n",
            "\u001b[2K   \u001b[90m━━━━━━━━━━━━━━━━━━━━━━━━━━━━━━━━━━━━━━━━\u001b[0m \u001b[32m13.8/13.8 MB\u001b[0m \u001b[31m55.1 MB/s\u001b[0m eta \u001b[36m0:00:00\u001b[0m\n",
            "\u001b[?25hDownloading nvidia_cuda_nvrtc_cu12-12.4.127-py3-none-manylinux2014_x86_64.whl (24.6 MB)\n",
            "\u001b[2K   \u001b[90m━━━━━━━━━━━━━━━━━━━━━━━━━━━━━━━━━━━━━━━━\u001b[0m \u001b[32m24.6/24.6 MB\u001b[0m \u001b[31m50.6 MB/s\u001b[0m eta \u001b[36m0:00:00\u001b[0m\n",
            "\u001b[?25hDownloading nvidia_cuda_runtime_cu12-12.4.127-py3-none-manylinux2014_x86_64.whl (883 kB)\n",
            "\u001b[2K   \u001b[90m━━━━━━━━━━━━━━━━━━━━━━━━━━━━━━━━━━━━━━━━\u001b[0m \u001b[32m883.7/883.7 kB\u001b[0m \u001b[31m37.7 MB/s\u001b[0m eta \u001b[36m0:00:00\u001b[0m\n",
            "\u001b[?25hDownloading nvidia_cudnn_cu12-9.1.0.70-py3-none-manylinux2014_x86_64.whl (664.8 MB)\n",
            "\u001b[2K   \u001b[90m━━━━━━━━━━━━━━━━━━━━━━━━━━━━━━━━━━━━━━━━\u001b[0m \u001b[32m664.8/664.8 MB\u001b[0m \u001b[31m2.6 MB/s\u001b[0m eta \u001b[36m0:00:00\u001b[0m\n",
            "\u001b[?25hDownloading nvidia_cufft_cu12-11.2.1.3-py3-none-manylinux2014_x86_64.whl (211.5 MB)\n",
            "\u001b[2K   \u001b[90m━━━━━━━━━━━━━━━━━━━━━━━━━━━━━━━━━━━━━━━━\u001b[0m \u001b[32m211.5/211.5 MB\u001b[0m \u001b[31m4.2 MB/s\u001b[0m eta \u001b[36m0:00:00\u001b[0m\n",
            "\u001b[?25hDownloading nvidia_curand_cu12-10.3.5.147-py3-none-manylinux2014_x86_64.whl (56.3 MB)\n",
            "\u001b[2K   \u001b[90m━━━━━━━━━━━━━━━━━━━━━━━━━━━━━━━━━━━━━━━━\u001b[0m \u001b[32m56.3/56.3 MB\u001b[0m \u001b[31m7.9 MB/s\u001b[0m eta \u001b[36m0:00:00\u001b[0m\n",
            "\u001b[?25hDownloading nvidia_cusolver_cu12-11.6.1.9-py3-none-manylinux2014_x86_64.whl (127.9 MB)\n",
            "\u001b[2K   \u001b[90m━━━━━━━━━━━━━━━━━━━━━━━━━━━━━━━━━━━━━━━━\u001b[0m \u001b[32m127.9/127.9 MB\u001b[0m \u001b[31m9.2 MB/s\u001b[0m eta \u001b[36m0:00:00\u001b[0m\n",
            "\u001b[?25hDownloading nvidia_cusparse_cu12-12.3.1.170-py3-none-manylinux2014_x86_64.whl (207.5 MB)\n",
            "\u001b[2K   \u001b[90m━━━━━━━━━━━━━━━━━━━━━━━━━━━━━━━━━━━━━━━━\u001b[0m \u001b[32m207.5/207.5 MB\u001b[0m \u001b[31m6.6 MB/s\u001b[0m eta \u001b[36m0:00:00\u001b[0m\n",
            "\u001b[?25hDownloading nvidia_nvjitlink_cu12-12.4.127-py3-none-manylinux2014_x86_64.whl (21.1 MB)\n",
            "\u001b[2K   \u001b[90m━━━━━━━━━━━━━━━━━━━━━━━━━━━━━━━━━━━━━━━━\u001b[0m \u001b[32m21.1/21.1 MB\u001b[0m \u001b[31m33.8 MB/s\u001b[0m eta \u001b[36m0:00:00\u001b[0m\n",
            "\u001b[?25hInstalling collected packages: nvidia-nvjitlink-cu12, nvidia-curand-cu12, nvidia-cufft-cu12, nvidia-cuda-runtime-cu12, nvidia-cuda-nvrtc-cu12, nvidia-cuda-cupti-cu12, nvidia-cublas-cu12, nvidia-cusparse-cu12, nvidia-cudnn-cu12, nvidia-cusolver-cu12\n",
            "  Attempting uninstall: nvidia-nvjitlink-cu12\n",
            "    Found existing installation: nvidia-nvjitlink-cu12 12.5.82\n",
            "    Uninstalling nvidia-nvjitlink-cu12-12.5.82:\n",
            "      Successfully uninstalled nvidia-nvjitlink-cu12-12.5.82\n",
            "  Attempting uninstall: nvidia-curand-cu12\n",
            "    Found existing installation: nvidia-curand-cu12 10.3.6.82\n",
            "    Uninstalling nvidia-curand-cu12-10.3.6.82:\n",
            "      Successfully uninstalled nvidia-curand-cu12-10.3.6.82\n",
            "  Attempting uninstall: nvidia-cufft-cu12\n",
            "    Found existing installation: nvidia-cufft-cu12 11.2.3.61\n",
            "    Uninstalling nvidia-cufft-cu12-11.2.3.61:\n",
            "      Successfully uninstalled nvidia-cufft-cu12-11.2.3.61\n",
            "  Attempting uninstall: nvidia-cuda-runtime-cu12\n",
            "    Found existing installation: nvidia-cuda-runtime-cu12 12.5.82\n",
            "    Uninstalling nvidia-cuda-runtime-cu12-12.5.82:\n",
            "      Successfully uninstalled nvidia-cuda-runtime-cu12-12.5.82\n",
            "  Attempting uninstall: nvidia-cuda-nvrtc-cu12\n",
            "    Found existing installation: nvidia-cuda-nvrtc-cu12 12.5.82\n",
            "    Uninstalling nvidia-cuda-nvrtc-cu12-12.5.82:\n",
            "      Successfully uninstalled nvidia-cuda-nvrtc-cu12-12.5.82\n",
            "  Attempting uninstall: nvidia-cuda-cupti-cu12\n",
            "    Found existing installation: nvidia-cuda-cupti-cu12 12.5.82\n",
            "    Uninstalling nvidia-cuda-cupti-cu12-12.5.82:\n",
            "      Successfully uninstalled nvidia-cuda-cupti-cu12-12.5.82\n",
            "  Attempting uninstall: nvidia-cublas-cu12\n",
            "    Found existing installation: nvidia-cublas-cu12 12.5.3.2\n",
            "    Uninstalling nvidia-cublas-cu12-12.5.3.2:\n",
            "      Successfully uninstalled nvidia-cublas-cu12-12.5.3.2\n",
            "  Attempting uninstall: nvidia-cusparse-cu12\n",
            "    Found existing installation: nvidia-cusparse-cu12 12.5.1.3\n",
            "    Uninstalling nvidia-cusparse-cu12-12.5.1.3:\n",
            "      Successfully uninstalled nvidia-cusparse-cu12-12.5.1.3\n",
            "  Attempting uninstall: nvidia-cudnn-cu12\n",
            "    Found existing installation: nvidia-cudnn-cu12 9.3.0.75\n",
            "    Uninstalling nvidia-cudnn-cu12-9.3.0.75:\n",
            "      Successfully uninstalled nvidia-cudnn-cu12-9.3.0.75\n",
            "  Attempting uninstall: nvidia-cusolver-cu12\n",
            "    Found existing installation: nvidia-cusolver-cu12 11.6.3.83\n",
            "    Uninstalling nvidia-cusolver-cu12-11.6.3.83:\n",
            "      Successfully uninstalled nvidia-cusolver-cu12-11.6.3.83\n",
            "Successfully installed nvidia-cublas-cu12-12.4.5.8 nvidia-cuda-cupti-cu12-12.4.127 nvidia-cuda-nvrtc-cu12-12.4.127 nvidia-cuda-runtime-cu12-12.4.127 nvidia-cudnn-cu12-9.1.0.70 nvidia-cufft-cu12-11.2.1.3 nvidia-curand-cu12-10.3.5.147 nvidia-cusolver-cu12-11.6.1.9 nvidia-cusparse-cu12-12.3.1.170 nvidia-nvjitlink-cu12-12.4.127\n"
          ]
        }
      ],
      "source": [
        "!pip install torch"
      ]
    },
    {
      "cell_type": "code",
      "execution_count": null,
      "metadata": {
        "id": "uWNCIVpXHYsz"
      },
      "outputs": [],
      "source": [
        "import torch\n",
        "from torchvision import datasets\n",
        "\n",
        "# load the training data\n",
        "mnist_train = datasets.MNIST('data', train=True, download=True)\n",
        "mnist_train = list(mnist_train)[:2500]\n",
        "\n",
        "print(mnist_train[0])"
      ]
    },
    {
      "cell_type": "code",
      "execution_count": null,
      "metadata": {
        "id": "tInYx6RL3hyF"
      },
      "outputs": [],
      "source": []
    },
    {
      "cell_type": "markdown",
      "metadata": {
        "id": "GD_271UWHYsz"
      },
      "source": [
        "Let's take a look at some of the data:"
      ]
    },
    {
      "cell_type": "code",
      "execution_count": null,
      "metadata": {
        "id": "qzoIijYdHYs0"
      },
      "outputs": [],
      "source": [
        "# plot the first 18 images in the training data\n",
        "import matplotlib.pyplot as plt\n",
        "for k, (image, label) in enumerate(mnist_train[:18]):\n",
        "    plt.subplot(3, 6, k+1)\n",
        "    plt.imshow(image, cmap='gray')"
      ]
    },
    {
      "cell_type": "markdown",
      "metadata": {
        "id": "Q5cQN9L9HYs0"
      },
      "source": [
        "PyTorch has code written for us to convert an image into numerical pixel features.\n",
        "The tensor still preserves the 2D geometry of the image (we still get a `1x28x28` shape)\n",
        "and does not yet flatten the image into a vector (to get a `1x784` shape) like we discussed\n",
        "in lecture."
      ]
    },
    {
      "cell_type": "code",
      "execution_count": null,
      "metadata": {
        "id": "uZyHdXK_HYs0"
      },
      "outputs": [],
      "source": [
        "from torchvision import transforms\n",
        "# transform the image data type to a 28x28 matrix of numbers\n",
        "img_to_tensor = transforms.ToTensor()\n",
        "\n",
        "# convert the last image we saw into a tensor\n",
        "img_tensor = img_to_tensor(image)\n",
        "img_tensor.shape"
      ]
    },
    {
      "cell_type": "markdown",
      "metadata": {
        "id": "9Y-vsRkEHYs0"
      },
      "source": [
        "If we want to convert the entire dataset into these tensor representations (as opposed to\n",
        "PIL.Image objects), there is a `transform` parameter that we can use when loading the MNIST\n",
        "dataset:"
      ]
    },
    {
      "cell_type": "code",
      "execution_count": null,
      "metadata": {
        "id": "0MJhcwLgHYs1"
      },
      "outputs": [],
      "source": [
        "mnist_train = datasets.MNIST('data', train=True, transform=img_to_tensor)\n",
        "mnist_train = list(mnist_train)[:2500]\n",
        "print(mnist_train[0])"
      ]
    },
    {
      "cell_type": "markdown",
      "metadata": {
        "id": "dAVqGyhcHYs1"
      },
      "source": [
        "Now, we'll split this data into training and validation, and start to build our model.\n",
        "We won't need a test set for this tutorial, but in general we will also have a test set."
      ]
    },
    {
      "cell_type": "code",
      "execution_count": null,
      "metadata": {
        "id": "r6SZ0AP8HYs1"
      },
      "outputs": [],
      "source": [
        "mnist_train, mnist_val = mnist_train[:2000], mnist_train[2000:]"
      ]
    },
    {
      "cell_type": "markdown",
      "metadata": {
        "id": "OQ6ETcWzHYs1"
      },
      "source": [
        "## Linear Model in PyTorch\n",
        "\n",
        "To build a linear model in PyTorch, we create an instance of the class `nn.Linear`,\n",
        "and specify the number of input features, and the number of output features. For linear regression\n",
        "and binary classification, the number of output features is 1. For multi-class classification,\n",
        "we have as many outputs as there are classes.\n",
        "\n",
        "When using this model for classification, we'll need to apply the sigmoid or softmax\n",
        "activiation *afterwards*. That is, this object is only meant to handle the linear part of the\n",
        "model computation."
      ]
    },
    {
      "cell_type": "code",
      "execution_count": null,
      "metadata": {
        "id": "4vfcgFYvHYs1"
      },
      "outputs": [],
      "source": [
        "import torch\n",
        "import torch.nn as nn\n",
        "\n",
        "example_model = nn.Linear(50, 1) # assume 50 features, 1 linear output"
      ]
    },
    {
      "cell_type": "markdown",
      "metadata": {
        "id": "rKKqsif3HYs2"
      },
      "source": [
        "The `example_model` object contains weights and biases of the model. By default, PyTorch\n",
        "initializes these values to a random number close to 0:"
      ]
    },
    {
      "cell_type": "code",
      "execution_count": null,
      "metadata": {
        "id": "LTQuhA_SHYs2"
      },
      "outputs": [],
      "source": [
        "weight, bias = list(example_model.parameters())\n",
        "print(weight)\n",
        "print(weight.shape)\n",
        "print(bias)\n",
        "print(bias.shape)"
      ]
    },
    {
      "cell_type": "markdown",
      "metadata": {
        "id": "rs8S3j1CHYs2"
      },
      "source": [
        "If we create a new model, those initial parameters will change:"
      ]
    },
    {
      "cell_type": "code",
      "execution_count": null,
      "metadata": {
        "id": "EOQ9s-ENHYs2"
      },
      "outputs": [],
      "source": [
        "example_model = nn.Linear(50, 1)\n",
        "weight, bias = list(example_model.parameters())\n",
        "\n",
        "# These values should be different from above\n",
        "print(weight)\n",
        "print(weight.shape)\n",
        "print(bias)\n",
        "print(bias.shape)"
      ]
    },
    {
      "cell_type": "markdown",
      "metadata": {
        "id": "pXhdTHkdHYs2"
      },
      "source": [
        "Now, let's create the actual model that we will train to solve the MNIST\n",
        "digit classification problem. How many input features do we have? How many\n",
        "output features do we need?"
      ]
    },
    {
      "cell_type": "code",
      "execution_count": null,
      "metadata": {
        "id": "5aHKBtpNHYs2"
      },
      "outputs": [],
      "source": [
        "model = nn.Linear(784, 10) # 784 = 28*28\n",
        "\n",
        "# Let's verify that the shapes of the weights and biases are what we expect\n",
        "weight, bias = list(model.parameters())\n",
        "print(weight.shape)\n",
        "print(bias.shape)"
      ]
    },
    {
      "cell_type": "markdown",
      "metadata": {
        "id": "grGwSzXnHYs2"
      },
      "source": [
        "## Making Predictions\n",
        "\n",
        "Let's see how we can make a prediction with this model. (You might find it strange that\n",
        "we're talking about how to make predictions *before* talking about how to train the model.\n",
        "The reason is that we will always train the model using a varient of gradient descent.\n",
        "So you can imagine that the weights of this model will eventually become more meaningful\n",
        "than it is now)\n",
        "\n",
        "We'll start with the simpler `example_model` first. The way that we make predictions\n",
        "is by starting with an input $x$ that has the required shape. Since `example_model` is\n",
        "just an example, we'll create a tensor with the appropriate shape, filled with random values."
      ]
    },
    {
      "cell_type": "code",
      "execution_count": null,
      "metadata": {
        "id": "hcUg_iipHYs2"
      },
      "outputs": [],
      "source": [
        "x = torch.randn(50) # create a rank 1 tensor (vector) with 50 features\n",
        "x.shape"
      ]
    },
    {
      "cell_type": "markdown",
      "metadata": {
        "id": "zthSwTPrHYs2"
      },
      "source": [
        "To make predictions, we apply the `example_model` as if it is a function, with the\n",
        "inputs as an argument:"
      ]
    },
    {
      "cell_type": "code",
      "execution_count": null,
      "metadata": {
        "id": "-nHmBN_7HYs2"
      },
      "outputs": [],
      "source": [
        "y = example_model(x)\n",
        "y.shape"
      ]
    },
    {
      "cell_type": "markdown",
      "metadata": {
        "id": "90jVC5yEHYs2"
      },
      "source": [
        "If this model was used for binary classification, we might also need to apply the sigmoid\n",
        "function:"
      ]
    },
    {
      "cell_type": "code",
      "execution_count": null,
      "metadata": {
        "id": "ZHJSD13cHYs2"
      },
      "outputs": [],
      "source": [
        "torch.sigmoid(example_model(x))"
      ]
    },
    {
      "cell_type": "markdown",
      "metadata": {
        "id": "YArhZ3_kHYs2"
      },
      "source": [
        "One nice thing about PyTorch is that it vectorizes and parallelizes the computation for us.\n",
        "So, if we had a *batch* of 32 inputs that we want to make predictions for, we can perform\n",
        "that computation using a single call:"
      ]
    },
    {
      "cell_type": "code",
      "execution_count": null,
      "metadata": {
        "id": "5NvMtp8GHYs2"
      },
      "outputs": [],
      "source": [
        "x = torch.randn([32, 50]) # a stack of 32 inputs\n",
        "print(x.shape)\n",
        "y = example_model(x)\n",
        "print(y.shape)"
      ]
    },
    {
      "cell_type": "markdown",
      "metadata": {
        "id": "cDFQoYOQHYs3"
      },
      "source": [
        "(Note: The order of the dimensions in our input $x$ matters. The batch size always goes first,\n",
        "and the number of features always goes second)\n",
        "\n",
        "Now, let's try and make some \"predictions\" with our MNIST model!  We still have\n",
        "the variable `image_tensor` from earlier:"
      ]
    },
    {
      "cell_type": "code",
      "execution_count": null,
      "metadata": {
        "id": "WW9-cnYdHYs3"
      },
      "outputs": [],
      "source": [
        "img_tensor.shape"
      ]
    },
    {
      "cell_type": "markdown",
      "metadata": {
        "id": "UWHTQyTGHYs3"
      },
      "source": [
        "However, the shape of this tensor is not what we need it to be.\n",
        "We need to *flatten* the image into either a rank 1 tensor (with shape [784])\n",
        "or a rank 2 tensor (with shape [1, 784]). We'll choose the latter, so\n",
        "that the transition to passing multiple images at the same time is easier:"
      ]
    },
    {
      "cell_type": "code",
      "execution_count": null,
      "metadata": {
        "id": "J_Dv4en2HYs3"
      },
      "outputs": [],
      "source": [
        "x = img_tensor.view(1, 784)\n",
        "print(x.shape)\n",
        "z = model(x)\n",
        "print(z)\n",
        "print(z.shape)\n",
        "y = torch.softmax(z, dim=1)\n",
        "print(y)"
      ]
    },
    {
      "cell_type": "markdown",
      "metadata": {
        "id": "wXesW-QCHYs3"
      },
      "source": [
        "The `dim=1` in the softmax tells PyTorch which dimension represents different\n",
        "images, and which one represents the different class labels. We want our\n",
        "outputs $y$ to be a probability distribution across the *classes*, and not\n",
        "the different images.\n",
        "\n",
        "## Loss Function\n",
        "\n",
        "In order for the network to be useful, we need to actually train it, so\n",
        "that the weights are actually meaningful, non-random values. As we mentioned\n",
        "before, we'll use the network to make predictions, then compare the predictions\n",
        "agains the ground truth via the loss function.\n",
        "\n",
        "PyTorch has standard loss functions that we can use: for example,\n",
        "`nn.BCEWithLogitsLoss()` for a binary-classification problem, and a\n",
        "`nn.CrossEntropyLoss()` for a multi-class classification problem like ours."
      ]
    },
    {
      "cell_type": "code",
      "execution_count": null,
      "metadata": {
        "id": "BHAT58pUHYs3"
      },
      "outputs": [],
      "source": [
        "criterion = nn.CrossEntropyLoss()"
      ]
    },
    {
      "cell_type": "markdown",
      "metadata": {
        "id": "uXnSIA08HYs3"
      },
      "source": [
        "This criterion can also be called as a function. It takes the logit prediction and\n",
        "ground-truth as parameters, and returns the loss. Two things to keep in mind\n",
        "for this function:\n",
        "\n",
        "1. Loss functions like this usually takes the **logit** as parameter, rather than\n",
        "   the post-softmax probability distributions. This is for numerical stability.\n",
        "2. This loss function also takes the ground-truth integer **index** as a parameter,\n",
        "   rather than a one-hot vector."
      ]
    },
    {
      "cell_type": "code",
      "execution_count": null,
      "metadata": {
        "id": "53meQEW5HYs3"
      },
      "outputs": [],
      "source": [
        "loss = criterion(y, torch.Tensor([8]).long()) # digit 8 = the 8-th class\n",
        "print(loss)"
      ]
    },
    {
      "cell_type": "markdown",
      "metadata": {
        "id": "4dsE1pWvHYs3"
      },
      "source": [
        "## Optimization and Weight Decay\n",
        "\n",
        "PyTorch also computes derivatives for us using *automatic differentiation*, which\n",
        "we (might) talk about in this course. In short, we can specify an **optimizer**\n",
        "(like Stochastic Gradient Descent), and use the optimizer to determine how to\n",
        "update the weights."
      ]
    },
    {
      "cell_type": "code",
      "execution_count": null,
      "metadata": {
        "id": "Mof9DBaWHYs3"
      },
      "outputs": [],
      "source": [
        "import torch.optim as optim\n",
        "optimizer = optim.SGD(model.parameters(), lr=0.005) # lr = learning rate\n",
        "\n",
        "# There are three lines of code required to perform\n",
        "# a gradient descent update:\n",
        "loss.backward()       # compute updates for each parameter\n",
        "optimizer.step()      # make the updates for each parameter\n",
        "optimizer.zero_grad() # a clean up step for PyTorch"
      ]
    },
    {
      "cell_type": "markdown",
      "metadata": {
        "id": "EPmSadzXHYs3"
      },
      "source": [
        "We can also use weight decay (L2 regularization) in PyTorch through the optimizer:"
      ]
    },
    {
      "cell_type": "code",
      "execution_count": null,
      "metadata": {
        "id": "JUdmqhScHYs9"
      },
      "outputs": [],
      "source": [
        "optimizer = optim.SGD(model.parameters(), lr=0.005, weight_decay=0.01)"
      ]
    },
    {
      "cell_type": "markdown",
      "metadata": {
        "id": "k6OIFM3-HYs9"
      },
      "source": [
        "## Batching\n",
        "\n",
        "PyTorch data loader also does batching for us!"
      ]
    },
    {
      "cell_type": "code",
      "execution_count": null,
      "metadata": {
        "id": "-4N4AB3iHYs9"
      },
      "outputs": [],
      "source": [
        "train_loader = torch.utils.data.DataLoader(mnist_train,\n",
        "                                           batch_size=32, # batch size\n",
        "                                           shuffle=True)  # shuffle before each epoch\n",
        "\n",
        "for (xs, ts) in enumerate(train_loader):\n",
        "    print(xs) # image pixels\n",
        "    print(ts) # targets\n",
        "    break\n",
        "\n",
        "# Try changing the batch_size above"
      ]
    },
    {
      "cell_type": "markdown",
      "metadata": {
        "id": "lEg54heVHYs9"
      },
      "source": [
        "## Putting it all together..."
      ]
    },
    {
      "cell_type": "code",
      "execution_count": null,
      "metadata": {
        "id": "3RkhIoDwHYs9"
      },
      "outputs": [],
      "source": [
        "def run_gradient_descent(model,\n",
        "                         batch_size=64,\n",
        "                         learning_rate=0.01,\n",
        "                         weight_decay=0,\n",
        "                         num_epochs=10):\n",
        "    criterion = nn.CrossEntropyLoss()\n",
        "    optimizer = optim.SGD(model.parameters(), lr=learning_rate, weight_decay=weight_decay)\n",
        "\n",
        "    iters, losses = [], []\n",
        "    iters_sub, train_acc, val_acc  = [], [] ,[]\n",
        "\n",
        "    train_loader = torch.utils.data.DataLoader(\n",
        "        mnist_train,\n",
        "        batch_size=batch_size,\n",
        "        shuffle=True)\n",
        "\n",
        "    # training\n",
        "    n = 0 # the number of iterations\n",
        "    for epoch in range(num_epochs):\n",
        "        for xs, ts in iter(train_loader):\n",
        "            if len(ts) != batch_size:\n",
        "                continue\n",
        "            xs = xs.view(-1, 784)    # flatten the image. The -1 is a wildcard\n",
        "            zs = model(xs)\n",
        "            loss = criterion(zs, ts) # compute the total loss\n",
        "            loss.backward()          # compute updates for each parameter\n",
        "            optimizer.step()         # make the updates for each parameter\n",
        "            optimizer.zero_grad()    # a clean up step for PyTorch\n",
        "\n",
        "            # save the current training information\n",
        "            iters.append(n)\n",
        "            losses.append(float(loss)/batch_size)  # compute *average* loss\n",
        "\n",
        "            if n % 10 == 0:\n",
        "                iters_sub.append(n)\n",
        "                train_acc.append(get_accuracy(model, mnist_train))\n",
        "                val_acc.append(get_accuracy(model, mnist_val))\n",
        "            # increment the iteration number\n",
        "            n += 1\n",
        "\n",
        "    # plotting\n",
        "    plt.title(\"Training Curve (batch_size={}, lr={})\".format(batch_size, learning_rate))\n",
        "    plt.plot(iters, losses, label=\"Train\")\n",
        "    plt.xlabel(\"Iterations\")\n",
        "    plt.ylabel(\"Loss\")\n",
        "    plt.show()\n",
        "\n",
        "    plt.title(\"Training Curve (batch_size={}, lr={})\".format(batch_size, learning_rate))\n",
        "    plt.plot(iters_sub, train_acc, label=\"Train\")\n",
        "    plt.plot(iters_sub, val_acc, label=\"Validation\")\n",
        "    plt.xlabel(\"Iterations\")\n",
        "    plt.ylabel(\"Accuracy\")\n",
        "    plt.legend(loc='best')\n",
        "    plt.show()\n",
        "\n",
        "    return model\n",
        "\n",
        "def get_accuracy(model, data):\n",
        "    loader = torch.utils.data.DataLoader(data, batch_size=500)\n",
        "\n",
        "    correct, total = 0, 0\n",
        "    for xs, ts in loader:\n",
        "        xs = xs.view(-1, 784) # flatten the image\n",
        "        zs = model(xs)\n",
        "        pred = zs.max(1, keepdim=True)[1] # get the index of the max logit\n",
        "        correct += pred.eq(ts.view_as(pred)).sum().item()\n",
        "        total += int(ts.shape[0])\n",
        "        return correct / total"
      ]
    },
    {
      "cell_type": "markdown",
      "metadata": {
        "id": "iMf5ls88HYs9"
      },
      "source": [
        "Let's try training this model!"
      ]
    },
    {
      "cell_type": "code",
      "execution_count": null,
      "metadata": {
        "id": "maHfRFF1HYs9"
      },
      "outputs": [],
      "source": [
        "model = nn.Linear(784, 10)\n",
        "run_gradient_descent(model, batch_size=64, learning_rate=0.01, num_epochs=10)"
      ]
    },
    {
      "cell_type": "markdown",
      "metadata": {
        "id": "BVb6W-mbHYs9"
      },
      "source": [
        "## Things to try:\n",
        "\n",
        "- Changing the batch size\n",
        "- Changing the weight decay parameter\n",
        "- Reduce the size of the training set (+ weight decay)\n",
        "- Changing the learning rate (for your data)"
      ]
    }
  ],
  "metadata": {
    "colab": {
      "provenance": [],
      "include_colab_link": true
    },
    "kernelspec": {
      "display_name": "Python 3",
      "name": "python3"
    },
    "language_info": {
      "name": "python"
    }
  },
  "nbformat": 4,
  "nbformat_minor": 0
}